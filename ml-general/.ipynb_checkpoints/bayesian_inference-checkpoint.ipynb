{
 "cells": [
  {
   "cell_type": "markdown",
   "metadata": {},
   "source": [
    "# ベイズ推論による機械学習"
   ]
  },
  {
   "cell_type": "markdown",
   "metadata": {},
   "source": [
    "## 1. 確率の基本"
   ]
  },
  {
   "cell_type": "markdown",
   "metadata": {},
   "source": [
    "### 1.1 確率分布"
   ]
  },
  {
   "cell_type": "markdown",
   "metadata": {},
   "source": [
    "各要素が**連続値**であるような$M$次元ベクトル$\\mathbf x = (x_1, \\dots, x_M)^\\mathrm{T}$に対する関数$p(\\mathbf{x})$が次のような条件を満たすとき、$p(\\mathbf{x})$を**確率密度関数**(probability density function)と呼ぶ。\n",
    "\n",
    "$$\n",
    "p(\\mathbf{x}) \\geq 0 \\\\\n",
    "\\int p(\\mathbf{x}) dx = \\int \\cdots \\int p(x_1, \\dots, x_M)dx_1 \\cdots dx_M = 1\n",
    "$$\n",
    "\n",
    "例：ガウス分布"
   ]
  },
  {
   "cell_type": "markdown",
   "metadata": {},
   "source": [
    "各要素が**離散値**であるような$M$次元ベクトル$\\mathbf x = (x_1, \\dots, x_M)^\\mathrm{T}$に対する関数$p(\\mathbf{x})$が次のような条件を満たすとき、$p(\\mathbf{x})$を**確率質量関数**(probability mass function)と呼ぶ。\n",
    "\n",
    "$$\n",
    "p(\\mathbf{x}) \\geq 0 \\\\\n",
    "\\sum_\\mathbf{x} p(\\mathbf{x}) dx = \\sum_{x_1} \\cdots \\sum_{x_M} p(x_1, \\dots, x_M) = 1\n",
    "$$\n",
    "\n",
    "例：ベルヌーイ分布"
   ]
  },
  {
   "cell_type": "markdown",
   "metadata": {},
   "source": [
    "確率密度関数または確率質量関数で定義されるような分布を**確率分布**と呼ぶことにする。"
   ]
  },
  {
   "cell_type": "markdown",
   "metadata": {},
   "source": [
    "### 1.2 確率分布の推論"
   ]
  },
  {
   "cell_type": "markdown",
   "metadata": {},
   "source": [
    "ある変数$x, y$に対する確率分布$p(x, y)$を**同時分布**(joint distribution)と呼ぶ。\n",
    "\n",
    "また、\n",
    "$$\n",
    "p(y) = \\int p(x, y) dx\n",
    "$$\n",
    "\n",
    "のように一方の変数$x$を積分の用いて除去する操作を**周辺化**(marginalization)と呼ぶ。\n",
    "\n",
    "得られた確率分布$p(y)$は**周辺分布**(marginal distribution)と呼ぶ。\n",
    "\n",
    "同時分布において特定の値$y$が定められたときの$x$の確率分布を**条件付き確率分布**(conditional distribution)と呼び、次のように定義する。\n",
    "\n",
    "$$\n",
    "p(x|y) = \\frac{p(x, y)}{p(y)}\n",
    "$$\n",
    "\n",
    "この条件付き確率分布は$x$についての確率分布であり、$y$は分布の特性を決めるパラメータのようなものであると解釈できる。\n",
    "\n",
    "また$x$が定められたときの$y$の条件付き分布も\n",
    "\n",
    "$$\n",
    "p(y|x) = \\frac{p(x, y)}{p(x)}\n",
    "$$\n",
    "\n",
    "と表せることにより、以下の**ベイズの定理**(Bayes Theorem)が導かれる。\n",
    "\n",
    "$$\n",
    "p(x|y) = \\frac{p(x, y)}{p(y)} = \\frac{p(y|x)p(x)}{p(y)} = \\frac{p(y|x)p(x)}{\\int p(x, y) dx}\n",
    "$$\n",
    "\n",
    "直感的には、「原因$x$から結果$y$が得られる確率$p(y|x)$から、原因$y$から結果$x$が得られる確率$p(x|y)$を逆算する手続き」を表す。\n",
    "\n",
    "さらに、同時分布$p(x, y)$が次の条件を満たすとき、$x$と$y$は独立であるという。\n",
    "\n",
    "$$\n",
    "p(x, y) = p(x)p(y)\n",
    "$$\n",
    "\n",
    "この式の両辺を$p(y)$で割り、条件付き確率分布の式を用いると、独立性を次のように書ける。\n",
    "\n",
    "$$\n",
    "p(x|y) = p(x)\n",
    "$$\n",
    "\n",
    "この式は、$x$の確率分布は$y$によって変わらないことを表す。\n",
    "\n",
    "ある同時分布が与えられたときに、そこから興味のある条件分布や周辺分布を算出することを**ベイズ推論**(Bayesian Inference)と呼ぶ。"
   ]
  },
  {
   "cell_type": "markdown",
   "metadata": {},
   "source": [
    "### 1.3 赤玉白玉問題"
   ]
  },
  {
   "cell_type": "markdown",
   "metadata": {},
   "source": [
    "袋$a$: 赤玉2個、白玉1個\n",
    "\n",
    "袋$b$: 赤玉1個、白玉３個\n",
    "\n",
    "から袋を$\\frac{1}{2}$づつの確率で選び、選んだ袋から玉を取り出す試行を考える。\n",
    "\n",
    "袋$a, b$が選ばれる事象をそれぞれ$x=a, x=b$とすると\n",
    "\n",
    "$$\n",
    "p(x=a) = p(x=b) = \\frac{1}{2}\n",
    "$$\n",
    "\n",
    "また、取り出された玉が赤、白である事象をそれぞれ$y=r, y=w$とする。\n",
    "\n",
    "仮に、袋$a$が選ばれたとがわかっているとすると、赤玉白玉が選ばれる確率は\n",
    "\n",
    "$$\n",
    "p(y=r|x=a) = \\frac{2}{3}\\\\\n",
    "p(y=w|x=a) = \\frac{1}{3}\n",
    "$$\n",
    "\n",
    "同様に、袋$b$が選ばれたとがわかっているとすると、赤玉白玉が選ばれる確率は\n",
    "\n",
    "$$\n",
    "p(y=r|x=b) = \\frac{1}{4}\\\\\n",
    "p(y=w|x=b) = \\frac{3}{4}\n",
    "$$\n",
    "\n",
    "条件付き確率分布の定義式より、「選ばれた袋が$a$で、かつ赤玉が出る確率」は\n",
    "\n",
    "$$\n",
    "\\begin{eqnarray}\n",
    "p(x=a, y=r) &=& p(y=r|x=a)p(x=a)\\\\\n",
    "                 &=& \\frac{2}{3} \\times \\frac{1}{2}\\\\\n",
    "                 &=& \\frac{1}{3}\n",
    "\\end{eqnarray}\n",
    "$$\n",
    "\n",
    "同様に、「選ばれた袋が$b$で、かつ赤玉が出る確率」は\n",
    "\n",
    "$$\n",
    "\\begin{eqnarray}\n",
    "p(x=b, y=r) &=& p(y=r|x=b)p(x=b)\\\\\n",
    "                 &=& \\frac{1}{4} \\times \\frac{1}{2}\\\\\n",
    "                 &=& \\frac{1}{8}\n",
    "\\end{eqnarray}\n",
    "$$\n",
    "\n",
    "「選ばれた袋にかかわらず、赤玉が出る確率」は周辺確率$p(y=r)$に対応する。\n",
    "\n",
    "$$\n",
    "\\begin{eqnarray}\n",
    "p(y=r) &=& \\sum_x p(x, y=r) \\\\\n",
    "          &=& p(x=a, y=r) + p(x=b, y=r)\n",
    "          &=& \\frac{1}{3} + \\frac{1}{8}\n",
    "          &=& \\frac{11}{24}\n",
    "\\end{eqnarray}\n",
    "$$\n",
    "\n",
    "ここまでは中学数学でもなんとかなる。\n",
    "\n",
    "「取り出された玉が赤であることがわかった場合、選ばれた袋が$a$である確率」について考える。\n",
    "\n",
    "これは$p(x=a|y=r)$で表せる。よって\n",
    "\n",
    "$$\n",
    "\\begin{eqnarray}\n",
    "p(x=a|y=r) &=& \\frac{p(x=a, y=r)}{p(y|r)}\n",
    "                &=& \\frac{8}{11}\n",
    "\\end{eqnarray}\n",
    "$$\n",
    "\n",
    "「取り出された玉が赤であることがわかった場合、選ばれた袋が$b$である確率」について考える。\n",
    "\n",
    "これは$p(x=b|y=r)$で表せる。\n",
    "\n",
    "$p(x|y=r)$は$x$についての確率分布なので、すべての$x$に関して和を取れば1になる。\n",
    "\n",
    "$$\n",
    "\\begin{eqnarray}\n",
    "\\sum_x p(x|y=r) &=& p(x=a, y=r) + p(x=b|y=r)\n",
    "                        &=& 1\n",
    "\\end{eqnarray}\n",
    "$$\n",
    "\n",
    "よって、\n",
    "\n",
    "$$\n",
    "p(x=b|y=r) = 1 - p(x=a, y=r) = \\frac{3}{11}\n",
    "$$\n",
    "\n",
    "\n",
    "ここで$p(x=a, y=r), p(x=b|y=r)$をデータ$y=r$が観測されたあとの**事後分布**(posterior)であるといい、データを観測する前の式$p(x=a), p(x=b)$は**事前分布**(prior)という。"
   ]
  },
  {
   "cell_type": "markdown",
   "metadata": {},
   "source": [
    "### 1.4 観測データが複数ある場合"
   ]
  },
  {
   "cell_type": "markdown",
   "metadata": {},
   "source": [
    "玉を選ぶ人を３人に増やし（復元抽出）、袋を選ぶ人が別にいるとする。３人が取り出した玉が\n",
    "\n",
    "$$\n",
    "\\{y_1, y_2, y_3\\} = \\{r, r, w\\}\n",
    "$$\n",
    "\n",
    "であったときに、選ばれた袋を推定する問題を考える。\n",
    "\n",
    "式で書くと、$p(x|y_1=r, y_2=r, y_3=w)$を求める問題になる。\n",
    "\n",
    "ぞれぞれの参加者が取り出す事象は独立であると仮定できるとすると\n",
    "\n",
    "$$\n",
    "p(y_1=r, y_2=r, y_3=w|x) = p(y_1=r|x)p(y_2=r|x)p(y_3=w|x)\n",
    "$$\n",
    "\n",
    "と書け、ベイズの定理を用いると\n",
    "\n",
    "$$\n",
    "\\begin{eqnarray}\n",
    "p(x|y_1=r, y_2=r, y_3=w) &=& \\frac{p(y_1=r, y_2=r, y_3=w|x)p(x)}{p(y_1=r, y_2=r, y_3=w)} \\\\\n",
    "                                     &=& \\frac{p(y_1=r|x)p(y_2=r|x)p(y_3=w|x)}{p(y_1=r, y_2=r, y_3=w)}\n",
    "\\end{eqnarray}\n",
    "$$\n",
    "\n",
    "と書ける。"
   ]
  },
  {
   "cell_type": "markdown",
   "metadata": {},
   "source": [
    "## 参考\n",
    "「ベイズ推論による機械学習入門」須山敦志"
   ]
  },
  {
   "cell_type": "code",
   "execution_count": null,
   "metadata": {},
   "outputs": [],
   "source": []
  }
 ],
 "metadata": {
  "kernelspec": {
   "display_name": "Python 3",
   "language": "python",
   "name": "python3"
  },
  "language_info": {
   "codemirror_mode": {
    "name": "ipython",
    "version": 3
   },
   "file_extension": ".py",
   "mimetype": "text/x-python",
   "name": "python",
   "nbconvert_exporter": "python",
   "pygments_lexer": "ipython3",
   "version": "3.7.3"
  }
 },
 "nbformat": 4,
 "nbformat_minor": 2
}
