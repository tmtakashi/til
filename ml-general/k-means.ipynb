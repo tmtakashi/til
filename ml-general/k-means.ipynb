{
 "cells": [
  {
   "cell_type": "markdown",
   "metadata": {},
   "source": [
    "# k-Means法\n",
    "- クラスタリングのアルゴリズム\n",
    "- 教師なし学習\n",
    "- 特徴量行列$\\textbf{X}$とクラスタ数$k$が入力として与えられる\n",
    "- $\\textbf{X}$の各サンプル$\\textbf{x}_i$から構成される点群を$k$個の点のかたまりに分類\n",
    "\n",
    "## k-Meansのアルゴリズム\n",
    "\n",
    "### アルゴリズムの概要\n",
    "- 各点$\\textbf{x}_i$にランダムにクラスタを割り振る\n",
    "- 収束するまで以下を繰り返す\n",
    "    1. 各クラスタの重心を計算\n",
    "    2. 各点について、計算された重心からの距離を計算し、距離が一番近いクラスタに割りあて直す\n",
    "\n",
    "収束条件: 点のクラスタへの所属情報が変化しない　or 所属情報の変化が一定の割合以下\n",
    "\n",
    "わかりやすいVisualizationは[こちら](http://web.stanford.edu/class/ee103/visualizations/kmeans/kmeans.html)\n",
    "\n",
    "### 距離・重心の計算\n",
    "距離としてユークリッド距離を採用。\n",
    "\n",
    "$j$番目のクラスタに属する点のインデックスの集合を$I_j$とすると、クラスタの重心$G_j$は\n",
    "$$\n",
    "G_j = \\frac{1}{|I_j|}\\sum_{i \\in I_j}\\textbf{x}_i\n",
    "$$\n",
    "\n",
    "### 実装上での工夫\n",
    "\n",
    "具体例として、特徴量行列`X`と各点のクラスタへの所属`labels`を考える。\n",
    "\n",
    "インデックシングをうまく利用すると簡単に重心が求まる。"
   ]
  },
  {
   "cell_type": "code",
   "execution_count": 1,
   "metadata": {},
   "outputs": [],
   "source": [
    "import numpy as np\n",
    "\n",
    "X = np.array([[1, 2],\n",
    "                        [2, 3],\n",
    "                        [3, 4],\n",
    "                        [4, 5],\n",
    "                        [5, 6],\n",
    "                        [6, 7],\n",
    "                        [7, 9]])\n",
    "\n",
    "labels = np.array([0, 1, 2, 0, 1, 2, 0])"
   ]
  },
  {
   "cell_type": "code",
   "execution_count": 2,
   "metadata": {},
   "outputs": [
    {
     "data": {
      "text/plain": [
       "array([[1, 2],\n",
       "       [4, 5],\n",
       "       [7, 9]])"
      ]
     },
     "execution_count": 2,
     "metadata": {},
     "output_type": "execute_result"
    }
   ],
   "source": [
    "# クラスタ0に関する点のみを取り出す\n",
    "X[labels == 0, :]"
   ]
  },
  {
   "cell_type": "code",
   "execution_count": 3,
   "metadata": {},
   "outputs": [
    {
     "data": {
      "text/plain": [
       "array([4.        , 5.33333333])"
      ]
     },
     "execution_count": 3,
     "metadata": {},
     "output_type": "execute_result"
    }
   ],
   "source": [
    "# クラスタ0の重心の計算\n",
    "X[labels == 0, :].mean(axis=0)"
   ]
  },
  {
   "cell_type": "markdown",
   "metadata": {},
   "source": [
    "次に、クラスタの中心`cluster_centers`が次のように与えられたとする。"
   ]
  },
  {
   "cell_type": "code",
   "execution_count": 4,
   "metadata": {},
   "outputs": [],
   "source": [
    "cluster_centers = np.array([[1, 1],\n",
    "                                                 [2, 2],\n",
    "                                                 [3, 3]])"
   ]
  },
  {
   "cell_type": "markdown",
   "metadata": {},
   "source": [
    "３つの中心から`X`の7点までの距離の2乗は次のように一気に計算できる。"
   ]
  },
  {
   "cell_type": "code",
   "execution_count": 10,
   "metadata": {},
   "outputs": [
    {
     "data": {
      "text/plain": [
       "array([[  1,   1,   5],\n",
       "       [  5,   1,   1],\n",
       "       [ 13,   5,   1],\n",
       "       [ 25,  13,   5],\n",
       "       [ 41,  25,  13],\n",
       "       [ 61,  41,  25],\n",
       "       [100,  74,  52]])"
      ]
     },
     "execution_count": 10,
     "metadata": {},
     "output_type": "execute_result"
    }
   ],
   "source": [
    "((X[:, :, np.newaxis]\n",
    "   - cluster_centers.T[np.newaxis, :, :])**2).sum(axis=1)"
   ]
  },
  {
   "cell_type": "markdown",
   "metadata": {},
   "source": [
    "この配列の`[i, j]`成分は`X[i, :]`と`cluster_centers[j, :]`の距離になる。\n",
    "\n",
    "この計算を処理を分けて整理する。"
   ]
  },
  {
   "cell_type": "code",
   "execution_count": 11,
   "metadata": {},
   "outputs": [],
   "source": [
    "p = X[:, :, np.newaxis] # X[i, j]をp[i, j, 0]に格納\n",
    "q = cluster_centers.T[np.newaxis, :, :]　# cluster_centers[k, l]をq[0, l, k]に格納\n",
    "r = (p - q)**2 \n",
    "s = r.sum(axis=1)"
   ]
  },
  {
   "cell_type": "markdown",
   "metadata": {},
   "source": [
    "各入力点がどのクラスタの中心に一番近いかというラベルを取得するには横方向に`argmin`を取ればよい。"
   ]
  },
  {
   "cell_type": "code",
   "execution_count": 13,
   "metadata": {},
   "outputs": [
    {
     "data": {
      "text/plain": [
       "array([0, 1, 2, 2, 2, 2, 2])"
      ]
     },
     "execution_count": 13,
     "metadata": {},
     "output_type": "execute_result"
    }
   ],
   "source": [
    "s.argmin(axis=1)"
   ]
  },
  {
   "cell_type": "markdown",
   "metadata": {},
   "source": [
    "## 実装"
   ]
  },
  {
   "cell_type": "code",
   "execution_count": 14,
   "metadata": {},
   "outputs": [],
   "source": [
    "import numpy as np\n",
    "import itertools\n",
    "\n",
    "class KMeans:\n",
    "    def __init__(self, n_clusters, max_iter=1000, random_seed=0):\n",
    "        self.n_clusters = n_clusters\n",
    "        self.max_iter = max_iter\n",
    "        self.random_state = np.random.RandomState(random_seed)\n",
    "    \n",
    "    def fit(self, X):\n",
    "        cycle = itertools.cycle(range(self.n_clusters))\n",
    "        self.labels_ = np.fromiter(\n",
    "                itertools.islice(cycle, X.shape[0]), dtype=np.int)\n",
    "        self.random_state.shuffle(self.labels_)\n",
    "        labels_prev = np.zeros(X.shape[0])\n",
    "        count = 0\n",
    "        self.cluster_centers_ = np.zeros((self.n_clusters, X.shape[1]))\n",
    "        while (not (self.labels_ == labels_prev).all() # すべての点で割りあてられたクラスタが前回の割りあてと異なるとき\n",
    "                   and count < self.max_iter):\n",
    "            # クラスタ重心の計算\n",
    "            for i in range(self.n_clusters):\n",
    "                XX = X[self.labels_ == i, :]\n",
    "                self.cluster_centers_[i, :] = XX.mean(axis=0)\n",
    "            # 各点のクラスタ重心までの距離の計算\n",
    "            dist = ((X[:, :, np.newaxis]\n",
    "                          - self.cluster_centers_.T[np.newaxis, :, :])\n",
    "                           ** 2).sum(axis=1)\n",
    "            labels_prev = self.labels_\n",
    "            self.labels_ = dist.argmin(axis=1)\n",
    "            count += 1\n",
    "            \n",
    "    def predict(self, x):\n",
    "        dist = ((X[:, :, np.newaxis]\n",
    "                          - self.cluster_centers_.T[np.newaxis, :, :])\n",
    "                           ** 2).sum(axis=1)\n",
    "        labels = dist.argmin(axis=1)\n",
    "        return labels"
   ]
  },
  {
   "cell_type": "markdown",
   "metadata": {},
   "source": [
    "## 人口データへの適用"
   ]
  },
  {
   "cell_type": "code",
   "execution_count": 16,
   "metadata": {},
   "outputs": [
    {
     "data": {
      "image/png": "[encoded data removed]",
      "text/plain": [
       "<Figure size 432x288 with 1 Axes>"
      ]
     },
     "metadata": {
      "needs_background": "light"
     },
     "output_type": "display_data"
    }
   ],
   "source": [
    "import numpy as np\n",
    "import matplotlib.pyplot as plt\n",
    "\n",
    "np.random.seed(0)\n",
    "points1 = np.random.randn(50, 2)\n",
    "points2 = np.random.randn(50, 2) + np.array([5, 0])\n",
    "points3 = np.random.randn(50, 2) + np.array([5, 5])\n",
    "\n",
    "points = np.r_[points1, points2, points3]\n",
    "np.random.shuffle(points)\n",
    "\n",
    "model = KMeans(3)\n",
    "model.fit(points)\n",
    "\n",
    "markers = [\"+\", \"*\", \"o\"]\n",
    "\n",
    "for i in range(3):\n",
    "    p = points[model.labels_ == i, :]\n",
    "    plt.scatter(p[:, 0], p[:, 1], color=\"k\", marker=markers[i])\n",
    "\n",
    "plt.show()"
   ]
  },
  {
   "cell_type": "markdown",
   "metadata": {},
   "source": [
    "## 参考\n",
    "- 「機械学習のエッセンス」 加藤公一"
   ]
  },
  {
   "cell_type": "code",
   "execution_count": null,
   "metadata": {},
   "outputs": [],
   "source": []
  }
 ],
 "metadata": {
  "kernelspec": {
   "display_name": "Python 3",
   "language": "python",
   "name": "python3"
  },
  "language_info": {
   "codemirror_mode": {
    "name": "ipython",
    "version": 3
   },
   "file_extension": ".py",
   "mimetype": "text/x-python",
   "name": "python",
   "nbconvert_exporter": "python",
   "pygments_lexer": "ipython3",
   "version": "3.7.1"
  }
 },
 "nbformat": 4,
 "nbformat_minor": 2
}
