{
  "nbformat": 4,
  "nbformat_minor": 0,
  "metadata": {
    "colab": {
      "name": "simple-one-class-svm.ipynb",
      "version": "0.3.2",
      "provenance": [],
      "collapsed_sections": [],
      "include_colab_link": true
    },
    "kernelspec": {
      "name": "python3",
      "display_name": "Python 3"
    }
  },
  "cells": [
    {
      "cell_type": "markdown",
      "metadata": {
        "id": "view-in-github",
        "colab_type": "text"
      },
      "source": [
        "<a href=\"https://colab.research.google.com/github/tmtakashi/til/blob/master/ml-general/simple_one_class_svm.ipynb\" target=\"_parent\"><img src=\"https://colab.research.google.com/assets/colab-badge.svg\" alt=\"Open In Colab\"/></a>"
      ]
    },
    {
      "metadata": {
        "id": "Xwz2gV5tIdhq",
        "colab_type": "text"
      },
      "cell_type": "markdown",
      "source": [
        "# One-Class SVM"
      ]
    },
    {
      "metadata": {
        "id": "2B1Mn1kDa2KM",
        "colab_type": "text"
      },
      "cell_type": "markdown",
      "source": [
        "## データを囲む最小の球\n",
        "- 学習データをすべて取り囲む超球を考え、半径が最小になるような半径と中心の位置ベクトルを求める\n",
        "$$\n",
        "\\min_{R^2, \\textbf{b}, \\textbf{u}} \\left\\{R^2 + C\\sum_{n=1}^{N}u^{(n)}\\right\\} \\text{subject to} ||\\textbf{x}^{(n)} - \\textbf{b}||^2 \\leq R^2 + u^{(n)}\n",
        "$$\n",
        "$C$は正則化定数、$u^{(n)}$は許容誤差\n",
        "- $R^2, b, u$が求まったとしてデータの異常度を「超球からはみ出た長さ」として$a(\\textbf{x}) = ||\\textbf{x} - \\textbf{b}|| - R^2 $と定義。展開すると\n",
        "$$\n",
        "a(\\textbf{x}) = K(\\textbf{x}, \\textbf{x}) - 2K(\\textbf{b}, \\textbf{x}) + K(\\textbf{b}, \\textbf{b}) - R^2\n",
        "$$\n",
        "$K$は引数の内積を表す。\n",
        "\b"
      ]
    },
    {
      "metadata": {
        "id": "GG577_pNj_MU",
        "colab_type": "text"
      },
      "cell_type": "markdown",
      "source": [
        "## 双対問題への変換・カーネルトリック\n",
        "- 上の最適化問題は非線形性をともなうので、「双対問題(duality)」に変換して非線形性を取り除く（ラグランジュの未定乗数法の応用）\n",
        "  - ラグランジュ関数を定義する（もとの目的関数 - ラグランジュ乗数 * 制約条件）\n",
        "  - いま、制約条件は$R^2 + u^{(n)} - ||\\textbf{x}^{(n)} - \\textbf{b}||^2 \\geq 0, u^{n} \\geq 0$\n",
        "  $$\n",
        "  L(R^2, \\textbf{b}, \\textbf{u}, \\alpha, \\beta) = R^2 + C\\sum_{n=1}^{N}u^{(n)} - \\sum_{n=1}^{N}\\beta_{n}u^{(n)} - \\sum_{n=1}^{N}\\alpha_{n}\\left\\{R^2 + u^{(n)} - ||\\textbf{x}^{(n)} - \\textbf{b}||^2\\right\\} \n",
        "  $$\n",
        "  - $L$の$R^2, \\textbf{b}, \\textbf{u}$に関する微分を0とすると\n",
        "  $$\n",
        "  \\begin{eqnarray}\n",
        "  \\frac{\\partial L}{\\partial R^2} &=& 1 - \\sum_{n=1}^{N}\\alpha_n = 0\\\\\n",
        "  \\frac{\\partial L}{\\partial \\textbf{b}} &=& 2\\sum_{n=1}^{N}\\alpha_n\\textbf{b} - 2\\sum_{n=1}^{N}\\alpha_n \\textbf{x}^{(n)} = \\textbf{0}\\\\\n",
        "  \\frac{\\partial L}{\\partial u^{(n)}} &=& C - \\beta_n - \\alpha_n = 0\\\\\n",
        "  \\min_{R^2, b, u}L(R^2, \\textbf{b}, \\textbf{u}, \\alpha, \\beta) &=& R^2 + C\\sum_{n=1}^{N}u^{(n)} - \\sum_{n=1}^{N}\\beta_{n}u^{(n)} - \\sum_{n=1}^{N}\\alpha_{n}\\left\\{R^2 + u^{(n)} - ||\\textbf{x}^{(n)} - \\textbf{b}||^2\\right\\}\\\\\n",
        "  &=&  (1 - \\sum_{n=1}^{N}\\alpha_n)R^2 + \\sum_{n=1}^{N}u^{(n)}(C - \\beta_n - \\alpha_n) + \\sum_{n=1}^{N}\\alpha_n||\\textbf{x}^{(n)} - \\textbf{b}||^2\\\\\n",
        "  &=& \\sum_{n=1}^{N}\\alpha_n||\\textbf{x}^{(n)} - \\textbf{b}||^2\\\\\n",
        "  &=& \\sum_{n=1}^{N}\\alpha_n||\\textbf{x}^{(n)} - \\sum_{n^{'}=1}^{N}\\alpha_{n^{'}}\\textbf{x}^{(n^{'})}||^2\n",
        "  \\end{eqnarray}\n",
        "  $$\n",
        "  最終的に\n",
        "  $$\n",
        "  \\max_{\\alpha}( \\sum_{n=1}^{N}\\alpha_n K_{n, n} - \\sum_{n=1, n^{'}=1}^{N}\\alpha_n \\alpha_{n^{'}} K_{n, n^{'}}) \\text{ subject to } 0 \\leq \\alpha_n \\leq C(N = 1, 2, ... N)\\\\\n",
        "  ただしK_{n, n^{'}} = K(\\textbf{x}^{(n)}, \\textbf{x}^{(n^{'})})\n",
        "  $$\n",
        "\n",
        "  という、最初の問題よりも簡単な形に置き換えられる => 双対問題を解けばよい\n",
        "  - 標本$\\{\\textbf{x}^{(n)}\\}$の内積Kのみに依存する\n",
        "    - 関数$\\phi$を用いて$\\textbf{x}$を$\\phi(\\textbf{x})$に置き換えると、\n",
        "    - KをRBF（動径基底関数）カーネルに置き換える\n",
        "    $$\n",
        "    K(\\textbf{x}, \\textbf{x}^{'}) \\leftarrow \\exp\\{-\\sigma||\\textbf{x} - \\textbf{x}^{'}||^2\\}\n",
        "    $$\n",
        "   - カーネル：変換$\\phi$を計算しなくても、もとのベクトル$\\textbf{a}, \\textbf{b}$だけからドット積$K(\\textbf{a}, \\textbf{b}) = \\phi(\\textbf{a})^T \\cdot \\phi(\\textbf{b})$を計算できる関数$K$\n",
        "   - マーサーの定理により、$\\phi$が存在することは分かるので、$\\phi$の実態を知らなくても良い。\n",
        "    - もとの標本空間を、内積が上記の式になるように非線形変換し、次元を拡張する(N次元 => ∞次元)\n",
        "    - \n",
        "    - モデルが過学習しているときは$\\sigma$を小さく、過小適合しているときは$\\sigma$を大きくする\n",
        "    - カーネルトリックと呼ばれる\n",
        "    - 他にも線形カーネル、多項式カーネル、シグモイドカーネルなどがある\n",
        "  \n",
        "  "
      ]
    },
    {
      "metadata": {
        "id": "Lueor1Roj8R-",
        "colab_type": "text"
      },
      "cell_type": "markdown",
      "source": [
        "## 解の性質と分類\n",
        "最適解$\\alpha^{*}$を求めたら、KKT条件を使ってもとの解$R^2, \\textbf{b}, u^{(n)}$を求めていく。最適化条件の式より\n",
        "$$\n",
        "\\textbf{b}^{*} = \\sum_{n=1}^{N}\\alpha_n^{*} \\textbf{x}^{(n)}\n",
        "$$\n",
        "KKT条件\n",
        "$$\n",
        "\\lambda g(x) = 0\\\\\n",
        "\\lambda: ラグランジュ定数\\\\\n",
        "g(x): 制約条件\n",
        "$$\n",
        "より\n",
        "\n",
        "$$\n",
        "\\alpha_n^{*} \\left\\{R^2 + u^{(n)} - ||\\textbf{x}^{(n)} - \\textbf{b}||^2\\right\\} = 0 \\\\\n",
        "(C - \\alpha_n^{*})u^{(n)} = 0\n",
        "$$\n",
        "が成り立つ。\n",
        "1. $\\alpha_n^{*} \\neq C \\neq 0$のとき、 $u^{(n)} = 0, R^2 = ||\\textbf{x}^{(n)} - \\textbf{b}||^2$になり、この$\\alpha_n^{*}$に対応する標本はちょうど球面上にあることを示す（サポートベクトル）。\n",
        "2. $\\alpha_n^{*} = 0$のとき、$u^{(n)} = 0, R^2 > ||\\textbf{x}^{(n)} - \\textbf{b}||^2$。この$\\alpha_n^{*}$に対応する標本は球の内部にある。\n",
        "3. $\\sum_{n=1}^{N}\\alpha_n = 1$より$C < 1$に対して$\\alpha_n^{*} = C$のとき、$u^{(n)} > 0$ になりこの$\\alpha_n^{*}$に対応する標本は球の外にある。サポートベクトルの仲間。$C < 1$にすることにより球の外にある標本の数を制御する。\n",
        "\n",
        "\n",
        "- $0 < \\alpha_n < C$となる$n$を一つ選び、それを$n^{'}$とすると\n",
        "$$\n",
        "\\begin{eqnarray}\n",
        "R^{2*} &=& ||\\textbf{x}^{(n^{'})} - \\textbf{b}||^2\\\\\n",
        "            &=& ||\\textbf{x}^{(n^{'})} - \\sum_{n=1}^{N}\\alpha_n^{*} \\textbf{x}^{(n)}||^2\\\\\n",
        "            &=& K_{n, n'} + \\sum_{n_1,n_2=1}^{N}\\alpha_{n1}^{*}\\alpha_{n2}^{*} K_{n_1, n_2} - 2 \\sum_{n=1}^{N}\\alpha_n^*K_{n, n'} \n",
        "\\end{eqnarray}\n",
        "$$\n",
        "と、内積と$\\alpha$だけで表せる。異常度も同様に表せる。"
      ]
    },
    {
      "metadata": {
        "id": "FOYXgVNXfzCh",
        "colab_type": "text"
      },
      "cell_type": "markdown",
      "source": [
        "## Scikit-learnによる実装"
      ]
    },
    {
      "metadata": {
        "id": "dn3qNcteYkhn",
        "colab_type": "code",
        "outputId": "077e5965-5027-4105-8c77-1b622101f5ae",
        "colab": {
          "base_uri": "https://localhost:8080/",
          "height": 306
        }
      },
      "cell_type": "code",
      "source": [
        "import numpy as np\n",
        "import matplotlib.pyplot as plt\n",
        "import matplotlib.font_manager\n",
        "from sklearn import svm\n",
        "\n",
        "xx, yy = np.meshgrid(np.linspace(-5, 5, 500), np.linspace(-5, 5, 500))\n",
        "\n",
        "# 2次元の訓練データを200サンプルつくる\n",
        "X = 0.3 * np.random.randn(100, 2)\n",
        "X_train = np.r_[X + 2, X - 2]\n",
        "\n",
        "# 多数派テストデータ\n",
        "X = 0.3 * np.random.randn(20, 2)\n",
        "X_test = np.r_[X + 2, X - 2]\n",
        "# 異常テストデータ\n",
        "X_outliers = np.random.uniform(low=-4, high=4, size=(20, 2))\n",
        "\n",
        "# 訓練\n",
        "clf = svm.OneClassSVM(nu=0.1, kernel=\"rbf\", gamma=0.1)\n",
        "clf.fit(X_train)\n",
        "y_pred_train = clf.predict(X_train)\n",
        "y_pred_test = clf.predict(X_test)\n",
        "y_pred_outliers = clf.predict(X_outliers)\n",
        "y_pred_train, y_pred_test, y_pred_outliers"
      ],
      "execution_count": 0,
      "outputs": [
        {
          "output_type": "execute_result",
          "data": {
            "text/plain": [
              "(array([ 1,  1, -1,  1,  1,  1,  1,  1,  1,  1,  1,  1,  1,  1, -1,  1,  1,\n",
              "         1,  1, -1,  1,  1,  1,  1,  1,  1,  1,  1,  1,  1,  1,  1, -1,  1,\n",
              "         1,  1,  1,  1,  1,  1,  1,  1,  1,  1,  1,  1,  1,  1,  1, -1,  1,\n",
              "         1,  1,  1,  1,  1,  1,  1,  1,  1,  1,  1,  1,  1,  1,  1, -1,  1,\n",
              "         1, -1,  1,  1,  1,  1,  1,  1,  1,  1,  1,  1,  1, -1,  1,  1,  1,\n",
              "         1,  1,  1,  1,  1,  1,  1,  1, -1,  1,  1,  1,  1,  1,  1,  1,  1,\n",
              "         1,  1,  1,  1,  1,  1,  1,  1,  1, -1,  1,  1, -1,  1,  1,  1,  1,\n",
              "         1,  1,  1,  1,  1,  1,  1,  1,  1,  1,  1,  1,  1,  1,  1,  1,  1,\n",
              "         1,  1,  1,  1,  1, -1,  1,  1,  1,  1,  1,  1,  1, -1,  1,  1,  1,\n",
              "         1,  1, -1,  1,  1,  1,  1,  1,  1,  1,  1,  1,  1,  1,  1,  1, -1,\n",
              "         1,  1,  1,  1,  1,  1,  1,  1,  1,  1,  1, -1,  1,  1,  1,  1,  1,\n",
              "         1, -1,  1,  1,  1,  1, -1,  1,  1,  1,  1, -1,  1]),\n",
              " array([ 1,  1,  1, -1,  1,  1,  1,  1,  1,  1,  1,  1,  1,  1, -1,  1, -1,\n",
              "         1,  1,  1,  1,  1,  1,  1,  1,  1,  1,  1,  1,  1,  1,  1,  1,  1,\n",
              "        -1,  1, -1,  1,  1,  1]),\n",
              " array([-1, -1, -1, -1, -1, -1,  1, -1, -1, -1, -1, -1, -1, -1, -1, -1, -1,\n",
              "        -1, -1, -1]))"
            ]
          },
          "metadata": {
            "tags": []
          },
          "execution_count": 3
        }
      ]
    },
    {
      "metadata": {
        "id": "OlIuqo6MhXyJ",
        "colab_type": "code",
        "outputId": "d266723e-7cf7-4e27-d07f-4aebd50c275b",
        "colab": {
          "base_uri": "https://localhost:8080/",
          "height": 34
        }
      },
      "cell_type": "code",
      "source": [
        "n_error_train = y_pred_train[y_pred_train == -1].size\n",
        "n_error_test = y_pred_test[y_pred_test == -1].size\n",
        "n_error_outliers = y_pred_outliers[y_pred_outliers == 1].size\n",
        "n_error_train, n_error_test, n_error_outliers"
      ],
      "execution_count": 0,
      "outputs": [
        {
          "output_type": "execute_result",
          "data": {
            "text/plain": [
              "(19, 5, 1)"
            ]
          },
          "metadata": {
            "tags": []
          },
          "execution_count": 4
        }
      ]
    },
    {
      "metadata": {
        "id": "UTHblSgrhebK",
        "colab_type": "code",
        "outputId": "e117a580-3dfc-40a4-ecbe-b4e291087a52",
        "colab": {
          "base_uri": "https://localhost:8080/",
          "height": 376
        }
      },
      "cell_type": "code",
      "source": [
        "Z = clf.decision_function(np.c_[xx.ravel(), yy.ravel()])\n",
        "Z = Z.reshape(xx.shape)\n",
        "\n",
        "plt.title(\"Novelty Detection\")\n",
        "plt.contourf(xx, yy, Z, levels=np.linspace(Z.min(), 0, 7), cmap=plt.cm.PuBu)\n",
        "a = plt.contour(xx, yy, Z, levels=[0], linewidths=2, colors='darkred')\n",
        "plt.contourf(xx, yy, Z, levels=[0, Z.max()], colors='palevioletred')\n",
        "\n",
        "s = 40\n",
        "b1 = plt.scatter(X_train[:, 0], X_train[:, 1], c='white', s=s, edgecolors='k')\n",
        "b2 = plt.scatter(X_test[:, 0], X_test[:, 1], c='blueviolet', s=s,\n",
        "                 edgecolors='k')\n",
        "c = plt.scatter(X_outliers[:, 0], X_outliers[:, 1], c='gold', s=s,\n",
        "                edgecolors='k')\n",
        "plt.axis('tight')\n",
        "plt.xlim((-5, 5))\n",
        "plt.ylim((-5, 5))\n",
        "plt.legend([a.collections[0], b1, b2, c],\n",
        "           [\"learned frontier\", \"training observations\",\n",
        "            \"new regular observations\", \"new abnormal observations\"],\n",
        "           loc=\"upper left\",\n",
        "           prop=matplotlib.font_manager.FontProperties(size=11))\n",
        "plt.xlabel(\n",
        "    \"error train: %d/200 ; errors novel regular: %d/40 ; \"\n",
        "    \"errors novel abnormal: %d/40\"\n",
        "    % (n_error_train, n_error_test, n_error_outliers))\n",
        "plt.show()"
      ],
      "execution_count": 0,
      "outputs": [
        {
          "output_type": "display_data",
          "data": {
            "image/png": "[encoded data removed]",
            "text/plain": [
              "<Figure size 576x396 with 1 Axes>"
            ]
          },
          "metadata": {
            "tags": []
          }
        }
      ]
    },
    {
      "metadata": {
        "id": "SYttxardiNR6",
        "colab_type": "code",
        "colab": {}
      },
      "cell_type": "code",
      "source": [
        ""
      ],
      "execution_count": 0,
      "outputs": []
    }
  ]
}