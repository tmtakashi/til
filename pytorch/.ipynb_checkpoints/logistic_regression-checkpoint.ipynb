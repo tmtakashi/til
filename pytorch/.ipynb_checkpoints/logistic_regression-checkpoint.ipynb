{
 "cells": [
  {
   "cell_type": "markdown",
   "metadata": {},
   "source": [
    "# Logistic Regression"
   ]
  },
  {
   "cell_type": "code",
   "execution_count": 1,
   "metadata": {},
   "outputs": [],
   "source": [
    "import torch \n",
    "import torch.nn as nn\n",
    "import torchvision\n",
    "import torchvision.transforms as transforms"
   ]
  },
  {
   "cell_type": "code",
   "execution_count": 2,
   "metadata": {},
   "outputs": [],
   "source": [
    "# Hyper parameters\n",
    "input_size = 784\n",
    "num_classes = 10\n",
    "num_epochs = 5\n",
    "batch_size = 100\n",
    "learning_rate = 0.001"
   ]
  },
  {
   "cell_type": "code",
   "execution_count": 4,
   "metadata": {},
   "outputs": [
    {
     "name": "stdout",
     "output_type": "stream",
     "text": [
      "Downloading http://yann.lecun.com/exdb/mnist/train-images-idx3-ubyte.gz\n",
      "Downloading http://yann.lecun.com/exdb/mnist/train-labels-idx1-ubyte.gz\n",
      "Downloading http://yann.lecun.com/exdb/mnist/t10k-images-idx3-ubyte.gz\n",
      "Downloading http://yann.lecun.com/exdb/mnist/t10k-labels-idx1-ubyte.gz\n",
      "Processing...\n",
      "Done!\n"
     ]
    }
   ],
   "source": [
    "# MNIST dataset\n",
    "train_dataset = torchvision.datasets.MNIST(root='./data',\n",
    "                                                                            train=True,\n",
    "                                                                            transform=transforms.ToTensor(),\n",
    "                                                                            download=True)\n",
    "\n",
    "test_dataset = torchvision.datasets.MNIST(root='./data',\n",
    "                                                                            train=False,\n",
    "                                                                            transform=transforms.ToTensor())"
   ]
  },
  {
   "cell_type": "code",
   "execution_count": 6,
   "metadata": {},
   "outputs": [],
   "source": [
    "# Data loader\n",
    "train_loader = torch.utils.data.DataLoader(dataset=train_dataset,\n",
    "                                                                          batch_size=batch_size,\n",
    "                                                                          shuffle=True)\n",
    "\n",
    "test_loader = torch.utils.data.DataLoader(dataset=test_dataset,\n",
    "                                                                          batch_size=batch_size,\n",
    "                                                                          shuffle=False)"
   ]
  },
  {
   "cell_type": "code",
   "execution_count": 8,
   "metadata": {},
   "outputs": [
    {
     "name": "stdout",
     "output_type": "stream",
     "text": [
      "Epoch [1/5], Step [100/600], Loss: 2.1592\n",
      "Epoch [1/5], Step [200/600], Loss: 2.1206\n",
      "Epoch [1/5], Step [300/600], Loss: 2.0101\n",
      "Epoch [1/5], Step [400/600], Loss: 1.9085\n",
      "Epoch [1/5], Step [500/600], Loss: 1.8593\n",
      "Epoch [1/5], Step [600/600], Loss: 1.7871\n",
      "Epoch [2/5], Step [100/600], Loss: 1.7121\n",
      "Epoch [2/5], Step [200/600], Loss: 1.6870\n",
      "Epoch [2/5], Step [300/600], Loss: 1.5877\n",
      "Epoch [2/5], Step [400/600], Loss: 1.5816\n",
      "Epoch [2/5], Step [500/600], Loss: 1.5295\n",
      "Epoch [2/5], Step [600/600], Loss: 1.4171\n",
      "Epoch [3/5], Step [100/600], Loss: 1.4549\n",
      "Epoch [3/5], Step [200/600], Loss: 1.3405\n",
      "Epoch [3/5], Step [300/600], Loss: 1.3950\n",
      "Epoch [3/5], Step [400/600], Loss: 1.3055\n",
      "Epoch [3/5], Step [500/600], Loss: 1.2461\n",
      "Epoch [3/5], Step [600/600], Loss: 1.3024\n",
      "Epoch [4/5], Step [100/600], Loss: 1.1793\n",
      "Epoch [4/5], Step [200/600], Loss: 1.1881\n",
      "Epoch [4/5], Step [300/600], Loss: 1.1080\n",
      "Epoch [4/5], Step [400/600], Loss: 1.1956\n",
      "Epoch [4/5], Step [500/600], Loss: 1.1179\n",
      "Epoch [4/5], Step [600/600], Loss: 1.1692\n",
      "Epoch [5/5], Step [100/600], Loss: 1.0857\n",
      "Epoch [5/5], Step [200/600], Loss: 1.0221\n",
      "Epoch [5/5], Step [300/600], Loss: 1.0101\n",
      "Epoch [5/5], Step [400/600], Loss: 1.0383\n",
      "Epoch [5/5], Step [500/600], Loss: 1.0196\n",
      "Epoch [5/5], Step [600/600], Loss: 1.0431\n"
     ]
    }
   ],
   "source": [
    "# Logistic regression model\n",
    "model = nn.Linear(input_size, num_classes)\n",
    "\n",
    "# Loss and optimizer\n",
    "criterion = nn.CrossEntropyLoss()\n",
    "optimizer = torch.optim.SGD(model.parameters(), lr=learning_rate)\n",
    "\n",
    "# Train the model\n",
    "total_step = len(train_loader)\n",
    "for epoch in range(num_epochs):\n",
    "    for i, (images, labels) in enumerate(train_loader):\n",
    "        # Reshape images to (batch_size, input_size)\n",
    "        images = images.reshape(-1, 28*28)\n",
    "        \n",
    "        # Forward pass \n",
    "        outputs = model(images)\n",
    "        loss = criterion(outputs, labels)\n",
    "        \n",
    "        # Backward and optimize\n",
    "        optimizer.zero_grad()\n",
    "        loss.backward()\n",
    "        optimizer.step()\n",
    "        \n",
    "        if (i+1) % 100 == 0:\n",
    "            print('Epoch [{}/{}], Step [{}/{}], Loss: {:.4f}'\n",
    "                    .format(epoch+1, num_epochs, i+1, total_step, loss.item()))"
   ]
  },
  {
   "cell_type": "code",
   "execution_count": 9,
   "metadata": {},
   "outputs": [
    {
     "name": "stdout",
     "output_type": "stream",
     "text": [
      "Accuracy of the model on the 10000 test images: 82 %\n"
     ]
    }
   ],
   "source": [
    "# Test the model\n",
    "with torch.no_grad():\n",
    "    correct = 0\n",
    "    total = 0\n",
    "    for images, labels in test_loader:\n",
    "        images = images.reshape(-1, 28*28)\n",
    "        outputs = model(images)\n",
    "        _, predicted = torch.max(outputs.data, 1)\n",
    "        total += labels.size(0)\n",
    "        correct += (predicted == labels).sum()\n",
    "        \n",
    "    print('Accuracy of the model on the 10000 test images: {} %'.format(100 * correct / total))\n",
    "    \n",
    "torch.save(model.state_dict(), './data/model.ckpt')"
   ]
  },
  {
   "cell_type": "code",
   "execution_count": null,
   "metadata": {},
   "outputs": [],
   "source": []
  }
 ],
 "metadata": {
  "kernelspec": {
   "display_name": "Python 3",
   "language": "python",
   "name": "python3"
  },
  "language_info": {
   "codemirror_mode": {
    "name": "ipython",
    "version": 3
   },
   "file_extension": ".py",
   "mimetype": "text/x-python",
   "name": "python",
   "nbconvert_exporter": "python",
   "pygments_lexer": "ipython3",
   "version": "3.5.2"
  }
 },
 "nbformat": 4,
 "nbformat_minor": 2
}
